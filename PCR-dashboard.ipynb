{
 "cells": [
  {
   "cell_type": "markdown",
   "id": "90dd4f0d-29c4-4249-a410-aad6ec584f4b",
   "metadata": {},
   "source": [
    "\n",
    "# <center><b> PCR Test Positive Cases Trend in England</b></center>\n"
   ]
  },
  {
   "cell_type": "markdown",
   "id": "02c014a9-eed8-4d3b-9d3e-b527f46428dd",
   "metadata": {},
   "source": [
    "### <center><b>Track Positive PCR Test Cases Over Time with Real-Time Data Updates</b></center> \n",
    "\n",
    "\n",
    "\n"
   ]
  },
  {
   "cell_type": "markdown",
   "id": "11ada143-0ba0-4907-b918-3ad868039d0a",
   "metadata": {},
   "source": [
    "About This Dashboard:\n",
    "\n",
    "You can **select a year** from the dropdown menu and click **\"Update Graph\"** to fetch the most recent data from the source.    \n",
    "The updated graph will display trends for the selected year.  \n",
    "\n",
    "The starting view shows data for 2024, highlighting how cases have fluctuated over the months. The graph helps you easily identify patterns and spikes in cases over time.  \n",
    "\n",
    "The data source is provided at the bottom of the graph for your reference."
   ]
  },
  {
   "cell_type": "code",
   "execution_count": 1,
   "id": "53e77a3f-4cc6-4806-9a0b-2256b6f2d2ea",
   "metadata": {},
   "outputs": [],
   "source": [
    "import requests\n",
    "import time\n",
    "\n",
    "class APIwrapper:\n",
    "    # class variables shared among all instances\n",
    "    _access_point=\"https://api.ukhsa-dashboard.data.gov.uk\"\n",
    "    _last_access=0.0 # time of last api access\n",
    "\n",
    "    # this allows all metrics to be downloaded\n",
    "    def __init__(self, theme, sub_theme, topic, geography_type, geography, metric):\n",
    "        url_path=(f\"/themes/{theme}/sub_themes/{sub_theme}/topics/{topic}/geography_types/\" +\n",
    "                  f\"{geography_type}/geographies/{geography}/metrics/{metric}\")\n",
    "        # starting API endpoint\n",
    "        self._start_url=APIwrapper._access_point+url_path\n",
    "        self._filters=None\n",
    "        self._page_size=-1\n",
    "        # will contain the number of items\n",
    "        self.count=None\n",
    "\n",
    "    def get_page(self, filters={}, page_size=5):\n",
    "        \"\"\" Access the API and download the next page of data. Sets the count\n",
    "        attribute to the total number of items available for this query. Changing\n",
    "        filters or page_size will cause get_page to restart from page 1. Rate\n",
    "        limited to three request per second. The page_size parameter sets the number\n",
    "        of data points in one response page (maximum 365); use the default value \n",
    "        for debugging your structure and filters. \"\"\"\n",
    "        # Check page size is within range\n",
    "        if page_size>365:\n",
    "            raise ValueError(\"Max supported page size is 365\")\n",
    "        # restart from first page if page or filters have changed\n",
    "        if filters!=self._filters or page_size!=self._page_size:\n",
    "            self._filters=filters\n",
    "            self._page_size=page_size\n",
    "            self._next_url=self._start_url\n",
    "        # signal the end of data condition\n",
    "        if self._next_url==None: \n",
    "            return [] # we already fetched the last page\n",
    "        # simple rate limiting to avoid bans\n",
    "        curr_time=time.time() # Unix time: number of seconds since the Epoch\n",
    "        deltat=curr_time-APIwrapper._last_access\n",
    "        if deltat<0.33: # max 3 requests/second\n",
    "            time.sleep(0.33-deltat)\n",
    "        APIwrapper._last_access=curr_time\n",
    "        # build parameter dictionary by removing all the None\n",
    "        # values from filters and adding page_size\n",
    "        parameters={x: y for x, y in filters.items() if y!=None}\n",
    "        parameters['page_size']=page_size\n",
    "        # the page parameter is already included in _next_url.\n",
    "        # This is the API access. Response is a dictionary with various keys.\n",
    "        # the .json() method decodes the response into Python object (dictionaries,\n",
    "        # lists; 'null' values are translated as None).\n",
    "        response = requests.get(self._next_url, params=parameters).json()\n",
    "        # update url so we'll fetch the next page\n",
    "        self._next_url=response['next']\n",
    "        self.count=response['count']\n",
    "        # data are in the nested 'results' list\n",
    "        return response['results'] \n",
    "\n",
    "    def get_all_pages(self, filters={}, page_size=365):\n",
    "        \"\"\" Access the API and download all available data pages of data. Sets the count\n",
    "        attribute to the total number of items available for this query. API access rate\n",
    "        limited to three request per second. The page_size parameter sets the number\n",
    "        of data points in one response page (maximum 365), and controls the trade-off\n",
    "        between time to load a page and number of pages; the default should work well \n",
    "        in most cases. The number of items returned should in any case be equal to \n",
    "        the count attribute. \"\"\"\n",
    "        data=[] # build up all data here\n",
    "        while True:\n",
    "            # use get_page to do the job, including the pacing\n",
    "            next_page=self.get_page(filters, page_size)\n",
    "            if next_page==[]:\n",
    "                break # we are done\n",
    "            data.extend(next_page)\n",
    "        return data"
   ]
  },
  {
   "cell_type": "code",
   "execution_count": 2,
   "id": "6299d7c9-7708-47bc-9401-1f2f86fe726c",
   "metadata": {},
   "outputs": [],
   "source": [
    "# structure memo\n",
    "structure={'theme': 'infectious_disease', \n",
    "           'sub_theme': 'respiratory',\n",
    "           'topic': 'COVID-19',\n",
    "           'geography_type': 'Nation', \n",
    "           'geography': 'England',}\n",
    "\n",
    "structure['metric']='COVID-19_testing_PCRcountByDay'"
   ]
  },
  {
   "cell_type": "code",
   "execution_count": 3,
   "id": "1f3dec1e-94e0-426a-9cf7-38169f13d9bd",
   "metadata": {},
   "outputs": [
    {
     "data": {
      "application/vnd.jupyter.widget-view+json": {
       "model_id": "dc0320edc95e4ebf9fa63451794c2fc0",
       "version_major": 2,
       "version_minor": 0
      },
      "text/plain": [
       "Button(button_style='success', description='Update Graph', icon='Download', style=ButtonStyle(), tooltip='Keep…"
      ]
     },
     "metadata": {},
     "output_type": "display_data"
    },
    {
     "data": {
      "application/vnd.jupyter.widget-view+json": {
       "model_id": "d89528aaf7954fa8b45b16aefc9a8f5a",
       "version_major": 2,
       "version_minor": 0
      },
      "text/plain": [
       "Dropdown(description='Year', index=4, options=(2020, 2021, 2022, 2023, 2024), value=2024)"
      ]
     },
     "metadata": {},
     "output_type": "display_data"
    },
    {
     "data": {
      "application/vnd.jupyter.widget-view+json": {
       "model_id": "aa32d98f0f80413d826fa5b40ad7f0ec",
       "version_major": 2,
       "version_minor": 0
      },
      "text/plain": [
       "Output()"
      ]
     },
     "metadata": {},
     "output_type": "display_data"
    }
   ],
   "source": [
    "from IPython.display import clear_output\n",
    "import ipywidgets as wdg\n",
    "import pandas as pd\n",
    "import numpy as np\n",
    "import matplotlib.pyplot as plt\n",
    "import json\n",
    "\n",
    "%matplotlib inline\n",
    "plt.rcParams['figure.dpi'] = 100\n",
    "\n",
    "\n",
    "\n",
    "jsondata={}\n",
    "\n",
    "# Wrangle \n",
    "def wrangle_data(rawdata):    # Create a dataframe and fill in the values        \n",
    "    if isinstance(rawdata, dict) and \"results\" in rawdata:\n",
    "        rawdata = rawdata[\"results\"]  # extract the 'results' list\n",
    "        \n",
    "    startdate = pd.to_datetime(\"2020-01-01\")\n",
    "    enddate = pd.to_datetime(\"2024-12-31\") \n",
    "    index = pd.date_range(start=startdate, end=enddate, freq='D')\n",
    "    df = pd.DataFrame(index=index, columns=['Cases'])    # creating a DataFrame \n",
    "\n",
    "    for entry in rawdata:\n",
    "        if 'date' in entry and 'metric_value' in entry:\n",
    "            date=pd.to_datetime(entry['date'])\n",
    "            value=entry['metric_value']\n",
    "            if date in df.index:\n",
    "                df.loc[date, 'Cases']=value   # filling the values to the DataFrame\n",
    "    df.infer_objects(copy=False)   # replace NaN value to 0.0\n",
    "    return df\n",
    "\n",
    "\n",
    "# Inital graph from .json file\n",
    "with open('PCRtest.json', 'r') as infile:\n",
    "    jsondata = json.load(infile)\n",
    "initial_df = wrangle_data(jsondata)\n",
    "\n",
    "# wrangle intially from .json file \n",
    "df=initial_df.copy()    \n",
    "\n",
    "\n",
    " # Fetch from API using APIWrapper\n",
    "def access_api():  \n",
    "    structure['metric']='COVID-19_testing_PCRcountByDay'\n",
    "    api=APIwrapper(**structure)\n",
    "    filters={}  # option to include filters \n",
    "    PCRtest = api.get_all_pages(filters=filters)\n",
    "    with open('PCRtest.json','wt') as OUTF:\n",
    "        json.dump(PCRtest, OUTF)\n",
    "    print('Data fetched and saved successfully!')\n",
    "    return PCRtest\n",
    "        \n",
    "def api_button_callback(button): # Fetch Button & linking the functions\n",
    "    apidata=access_api()\n",
    "    global df\n",
    "    df=wrangle_data(apidata)\n",
    "    refresh_graph()\n",
    "    apibutton.icon=\"check\" # icon changes after fetch is completed\n",
    "    apibutton.disabled=False\n",
    "   \n",
    "apibutton=wdg.Button(\n",
    "    description='Update Graph', \n",
    "    disabled=False,\n",
    "    button_style='success', \n",
    "    tooltip=\"Keep calm and carry on\",\n",
    "    icon='Download'\n",
    ")\n",
    "\n",
    "apibutton.on_click(api_button_callback) # links the button to functions\n",
    "display(apibutton)\n",
    "\n",
    "\n",
    "\n",
    "# Year widget\n",
    "unique_years=sorted(df.index.year.unique()) # extract unique year from the DataFrame\n",
    "\n",
    "year_widget=wdg.Dropdown(\n",
    "    options=unique_years,\n",
    "    value=unique_years[-1], # initially showing the latest data\n",
    "    description='Year',\n",
    "    disabled=False\n",
    ")\n",
    "\n",
    "\n",
    "\n",
    "# Plotting \n",
    "def plot_random_walk(selected_year):\n",
    "    filtered_df=df[df.index.year==selected_year]  # only include the rows with the year in df.index\n",
    "    ax=filtered_df['Cases'].plot(title=f'Positive PCR cases in {selected_year}')  # plot in the 'Cases' column\n",
    "    ax.set_xlabel(\"Date\", fontsize=12)\n",
    "    ax.set_ylabel(\"Cases\", fontsize=12)\n",
    "    plt.grid(visible=True)\n",
    "    plt.tight_layout()\n",
    "    plt.show() \n",
    "\n",
    "\n",
    "\n",
    "# Refresh the graph \n",
    "def refresh_graph():\n",
    "    current=year_widget.value\n",
    "    if current==year_widget.options[0]:  # first availabe year\n",
    "        other=year_widget.options[1]     # second available year \n",
    "    else:\n",
    "        other=year_widget.options[0]\n",
    "    year_widget.value=other \n",
    "    year_widget.value=current\n",
    " \n",
    "\n",
    "\n",
    "# connect the plotting function and the widget    \n",
    "graph=wdg.interactive_output(plot_random_walk, {'selected_year': year_widget})\n",
    "\n",
    "# display the widget and the graph \n",
    "display(year_widget, graph)"
   ]
  },
  {
   "cell_type": "markdown",
   "id": "9e660dd1-8e03-44db-9a29-92ad473965ac",
   "metadata": {},
   "source": [
    "**Data Source:** UK Health Security Agency (UKHSA) - [https://ukhsa-dashboard.data.gov.uk](https://ukhsa-dashboard.data.gov.uk)"
   ]
  },
  {
   "cell_type": "code",
   "execution_count": null,
   "id": "e53ac454-f319-4e4f-8085-d3c13658e3e7",
   "metadata": {},
   "outputs": [],
   "source": []
  }
 ],
 "metadata": {
  "kernelspec": {
   "display_name": "Python 3",
   "language": "python",
   "name": "python3"
  },
  "language_info": {
   "codemirror_mode": {
    "name": "ipython",
    "version": 3
   },
   "file_extension": ".py",
   "mimetype": "text/x-python",
   "name": "python",
   "nbconvert_exporter": "python",
   "pygments_lexer": "ipython3",
   "version": "3.10.12"
  }
 },
 "nbformat": 4,
 "nbformat_minor": 5
}
